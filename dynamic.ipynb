{
 "cells": [
  {
   "cell_type": "code",
   "execution_count": 15,
   "metadata": {},
   "outputs": [],
   "source": [
    "import time"
   ]
  },
  {
   "cell_type": "code",
   "execution_count": 17,
   "metadata": {},
   "outputs": [],
   "source": [
    "def knapsack_memo(w, v, W):\n",
    "    memo = {}\n",
    "    def helper(i, w, v, W):\n",
    "        if i >= len(w) or W < 0:\n",
    "            return 0\n",
    "        if w[i] > W:\n",
    "            return helper(i+1, w, v, W)\n",
    "        if i in memo:\n",
    "            return memo[i]\n",
    "        memo[i] = max(v[i] + helper(i+1, w, v, W-w[i]), \n",
    "                      helper(i+1, w, v, W))\n",
    "        return memo[i]\n",
    "    return helper(0, w, v, W)"
   ]
  },
  {
   "cell_type": "code",
   "execution_count": 19,
   "metadata": {},
   "outputs": [],
   "source": [
    "def knapsack(w, v, W):\n",
    "    def helper(i, w, v, W):\n",
    "        if i >= len(w) or W < 0:\n",
    "            return 0\n",
    "        if w[i] > W:\n",
    "            return helper(i+1, w, v, W)\n",
    "        return max(v[i] + helper(i+1, w, v, W-w[i]), \n",
    "                   helper(i+1, w, v, W))\n",
    "    return helper(0, w, v, W)"
   ]
  },
  {
   "cell_type": "code",
   "execution_count": 25,
   "metadata": {},
   "outputs": [
    {
     "name": "stdout",
     "output_type": "stream",
     "text": [
      "1709759706.811352\n"
     ]
    }
   ],
   "source": [
    "v = [i for i in range(1000)]\n",
    "w = [j for j in range(1000)]\n",
    "W = 300\n",
    "\n",
    "# start = time.time()\n",
    "# knapsack(w, v, W)\n",
    "# end = time.time()\n",
    "# print(end)\n",
    "\n",
    "start = time.time()\n",
    "knapsack_memo(w, v, W)\n",
    "end = time.time()\n",
    "print(end)"
   ]
  },
  {
   "cell_type": "code",
   "execution_count": 279,
   "metadata": {},
   "outputs": [
    {
     "data": {
      "text/plain": [
       "[(-2, -2), (3, -6), (24, -12), (48, -24), (24, -48), (96, -192)]"
      ]
     },
     "execution_count": 279,
     "metadata": {},
     "output_type": "execute_result"
    }
   ],
   "source": [
    "def max_product_iter(A, n):\n",
    "    max_p = A[0]\n",
    "    min_p = A[0]\n",
    "    dp = [(0, 0) for _ in range(n)]\n",
    "    dp[0] = (A[0], A[0])\n",
    "\n",
    "    for i in range(1, n):\n",
    "        if A[i] < 0:\n",
    "            # if the arr[i] is negative, then swap min_p and max_p in \n",
    "            # case we can make a bigger max with it\n",
    "            max_p, min_p = min_p, max_p\n",
    "        \n",
    "        max_p = max(A[i], max_p * A[i]) \n",
    "        min_p = min(A[i], min_p * A[i]) \n",
    "\n",
    "        dp[i] = (max_p, min_p)\n",
    "\n",
    "    return dp, dp[n-1]\n",
    "\n",
    "\n",
    "A = [-2, 3, -4, 2, -1, 4]\n",
    "table, max_product = max_product_iter(A, len(A))\n",
    "table"
   ]
  },
  {
   "cell_type": "code",
   "execution_count": 393,
   "metadata": {},
   "outputs": [
    {
     "data": {
      "text/plain": [
       "96"
      ]
     },
     "execution_count": 393,
     "metadata": {},
     "output_type": "execute_result"
    }
   ],
   "source": [
    "A = [3, -4, 2, -1, 4]\n",
    "max_product_iter(A, len(A))[1][0]\n"
   ]
  },
  {
   "cell_type": "code",
   "execution_count": 397,
   "metadata": {},
   "outputs": [],
   "source": [
    "def is_interleaved(s1, s2, s3, memo={}):\n",
    "    # If the current combination of s1, s2, and s3 is already in memo, return its value\n",
    "    if (s1, s2, s3) in memo:\n",
    "        return memo[(s1, s2, s3)]\n",
    "    \n",
    "    # Base case: if s3 is empty, s1 and s2 must also be empty to return True\n",
    "    if not s3:\n",
    "        return not s1 and not s2\n",
    "    \n",
    "    # If s1 is not empty and its first character matches with s3,\n",
    "    # check if the remaining part of s1 and s2 can form the remaining part of s3\n",
    "    if s1 and s1[0] == s3[0] and is_interleaved(s1[1:], s2, s3[1:], memo):\n",
    "        memo[(s1, s2, s3)] = True\n",
    "        return True\n",
    "    \n",
    "    # If s2 is not empty and its first character matches with s3,\n",
    "    # check if the remaining part of s1 and s2 can form the remaining part of s3\n",
    "    if s2 and s2[0] == s3[0] and is_interleaved(s1, s2[1:], s3[1:], memo):\n",
    "        memo[(s1, s2, s3)] = True\n",
    "        return True\n",
    "    \n",
    "    memo[(s1, s2, s3)] = False\n",
    "    return False\n"
   ]
  },
  {
   "cell_type": "markdown",
   "metadata": {},
   "source": [
    "Note that for this table, the columns correspond to the characters of $s_1$ and the rows to $s_2$. Hence $dp[row][col]$ is true if $s_3[:row + col]$ is a valid interleaving of $s_1[:col]$ and $s_2[:row]$. Additionally, $dp[row][0]$ corresponds to checking whether $s_3[:row] == s_2[:row]$, and $dp[0][col]$ corresponds to checking whether $s_3[:col] == s_1[:col]$.\n"
   ]
  },
  {
   "cell_type": "code",
   "execution_count": 402,
   "metadata": {},
   "outputs": [
    {
     "data": {
      "text/plain": [
       "False"
      ]
     },
     "execution_count": 402,
     "metadata": {},
     "output_type": "execute_result"
    }
   ],
   "source": [
    "def f(s1, s2, s3):\n",
    "    dp = [[False for _ in range(len(s2)+1)] for _ in range(len(s1)+1)]\n",
    "    for row in range(len(dp)):\n",
    "        dp[row][0] = s3[:row] == s2[:row]\n",
    "    for col in range(len(dp[0])):\n",
    "        dp[0][col] = s3[:col] == s1[:col]\n",
    "    for row in range(0, len(dp)):\n",
    "        for col in range(0, len(dp)):\n",
    "            dp[row][col] = is_interleaved(s1[:col], s2[:row], s3[:row+col]) or is_interleaved(s2[:row], s1[:col], s3[:row+col])\n",
    "    return dp\n",
    "\n",
    "s1 = \"cb\" \n",
    "s2 = \"badda\"\n",
    "s3 = \"cbbadad\"\n",
    "\n",
    "is_interleaved(s1, s2, s3)\n",
    "# print(s2[:5])\n",
    "# print(s1[:2])\n",
    "# print(s3[:7])"
   ]
  },
  {
   "cell_type": "code",
   "execution_count": 408,
   "metadata": {},
   "outputs": [],
   "source": [
    "def matrix(m, n, p):\n",
    "    d = [[0 for _ in range(n+1)] for _ in range(m+1)]\n",
    "    for i in range(m+1):\n",
    "        for j in range(n+1):\n",
    "            split = False\n",
    "            prev = p[i][j]\n",
    "            for k in range(i+1):\n",
    "                for z in range(j+1):\n",
    "                    if p[k][z] != prev:\n",
    "                        split = True\n",
    "                        break\n",
    "            if split:\n",
    "                horizontal = 1 + d[i][]\n",
    "        "
   ]
  },
  {
   "cell_type": "code",
   "execution_count": 410,
   "metadata": {},
   "outputs": [
    {
     "data": {
      "text/plain": [
       "'b'"
      ]
     },
     "execution_count": 410,
     "metadata": {},
     "output_type": "execute_result"
    }
   ],
   "source": [
    "s = \"b\"\n",
    "s[::-1]"
   ]
  },
  {
   "cell_type": "code",
   "execution_count": null,
   "metadata": {},
   "outputs": [],
   "source": []
  }
 ],
 "metadata": {
  "kernelspec": {
   "display_name": "base",
   "language": "python",
   "name": "python3"
  },
  "language_info": {
   "codemirror_mode": {
    "name": "ipython",
    "version": 3
   },
   "file_extension": ".py",
   "mimetype": "text/x-python",
   "name": "python",
   "nbconvert_exporter": "python",
   "pygments_lexer": "ipython3",
   "version": "3.11.4"
  },
  "orig_nbformat": 4
 },
 "nbformat": 4,
 "nbformat_minor": 2
}
