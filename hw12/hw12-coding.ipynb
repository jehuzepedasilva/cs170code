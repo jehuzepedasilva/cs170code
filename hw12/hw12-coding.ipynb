{
 "cells": [
  {
   "cell_type": "markdown",
   "id": "a9601a93",
   "metadata": {},
   "source": [
    "# Approximation Algorithms\n",
    "\n",
    "In the last notebook, we saw one algorithm to solve the Traveling Salesperson Problem. This time, we'll implement some algorithms which will give us approximate solutions to the TSP problem in polynomial time."
   ]
  },
  {
   "cell_type": "markdown",
   "id": "dfa8d797",
   "metadata": {},
   "source": [
    "### If you're using Datahub:\n",
    "* Run the cell below **and restart the kernel if needed**\n",
    "\n",
    "### If you're running locally:\n",
    "You'll need to perform some extra setup.\n",
    "#### First-time setup\n",
    "* Install Anaconda following the instructions here: https://www.anaconda.com/products/distribution \n",
    "* Create a conda environment: `conda create -n cs170 python=3.8`\n",
    "* Activate the environment: `conda activate cs170`\n",
    "    * See for more details on creating conda environments https://conda.io/projects/conda/en/latest/user-guide/tasks/manage-environments.html\n",
    "* Install pip: `conda install pip`\n",
    "* Install jupyter: `conda install jupyter`\n",
    "\n",
    "#### Every time you want to work\n",
    "* Make sure you've activated the conda environment: `conda activate cs170`\n",
    "* Launch jupyter: `jupyter notebook` or `jupyter lab` \n",
    "* Run the cell below **and restart the kernel if needed**"
   ]
  },
  {
   "cell_type": "code",
   "execution_count": 187,
   "id": "ae7439cb",
   "metadata": {},
   "outputs": [],
   "source": [
    "# Install dependencies\n",
    "!pip install -r requirements.txt --quiet"
   ]
  },
  {
   "cell_type": "markdown",
   "id": "e9a58194",
   "metadata": {},
   "source": []
  },
  {
   "cell_type": "code",
   "execution_count": 188,
   "id": "990e30be",
   "metadata": {},
   "outputs": [],
   "source": [
    "import otter\n",
    "assert (otter.__version__ >= \"5.4.1\"), \"Please reinstall the requirements and restart your kernel.\"\n",
    "\n",
    "grader = otter.Notebook(\"hw12-coding.ipynb\")\n",
    "import networkx as nx\n",
    "import pickle\n",
    "\n",
    "with open('tests_1.pkl', 'rb') as f:\n",
    "    test_data = pickle.load(f)\n",
    "\n",
    "rng_seed = 0"
   ]
  },
  {
   "cell_type": "markdown",
   "id": "f30c8c46",
   "metadata": {},
   "source": [
    "# The Traveling Salesperson Problem\n",
    "\n",
    "In this notebook, we will revisit the Traveling Salesperson Problem, which asks the following question: _Given a list of cities and the distances between each pair of cities, what is the shortest possible route that visits each city exactly once and returns to the origin city?_\n",
    "\n",
    "The problem can be formally defined as follows:\n",
    "\n",
    "```\n",
    "Input: An n x n matrix of distances, where M[i, j] corresponds to the distance from city i to city j.\n",
    "Output: An ordered list of cities [c1, c2, ... cn] that defines the shortest tour which passes through all the cities, starting and ending at the same city.\n",
    "```\n",
    "\n",
    "TSP is an NP-complete problem, and unless P=NP, there is no polynomial-time algorithm that finds exact solutions to the problem. You may remember that the Dynamic Programming algorithm we implemented in the last homework was very slow :)\n",
    "\n",
    "This time, we will focus on efficient ways to find approximate solutions. \n",
    "\n",
    "We have provided a convenience function that, given an input matrix and a list of cities, evaluates the length of the path that passes through all of the cities in the list in order."
   ]
  },
  {
   "cell_type": "code",
   "execution_count": 215,
   "id": "b1c1c27f",
   "metadata": {},
   "outputs": [],
   "source": [
    "def validate_tour(tour, matrix):\n",
    "    \"\"\"Returns the length of the tour if it is valid, -1 otherwise\n",
    "    \"\"\"\n",
    "    n = len(tour)\n",
    "    cost = 0\n",
    "    for i in range(n):\n",
    "        if matrix[tour[i-1]][tour[i]] == float('inf'):\n",
    "            return -1\n",
    "        cost += matrix[tour[i-1]][tour[i]]\n",
    "    return cost"
   ]
  },
  {
   "cell_type": "markdown",
   "id": "f0f298ea",
   "metadata": {},
   "source": [
    "### Q1a) Greedy Solution from Designated Home\n",
    "Implement a greedy solution, which starts at city `home` and greedily chooses the closest city that has not been visited yet, until all cities have been visited. Return the path as a list of cities on that path, starting and ending at `path[0]`. **For example, to represent the cycle `0 -> 1 -> 2 -> 3 -> 0`, return the list `[0, 1, 2, 3]`.**  You may break ties arbitrarily."
   ]
  },
  {
   "cell_type": "code",
   "execution_count": 216,
   "id": "ce98c07e",
   "metadata": {
    "tags": []
   },
   "outputs": [],
   "source": [
    "def tsp_greedy(matrix, home):\n",
    "    \"\"\"\n",
    "    A greedy implementation of TSP, starting and ending at home.\n",
    "    \n",
    "    Args:\n",
    "        matrix: List[List[float]]\n",
    "            An n x n matrix of distances, where M[i, j] corresponds to the distance from city i to city j.\n",
    "        home: int\n",
    "            The index of the city to start and end at.\n",
    "    \n",
    "    Returns:\n",
    "        path: List[int] \n",
    "            A list corresponding to the order in which to visit cities, starting from path[0] and ending \n",
    "            at path[-1] before returning to path[0]. path[0] should be home.    \n",
    "    \"\"\"\n",
    "    n = len(matrix)\n",
    "    visited = [False] * n\n",
    "    tour = [home]\n",
    "    curr_city = home\n",
    "\n",
    "    visited[home] = True\n",
    "\n",
    "    while len(tour) < n + 1:\n",
    "        min_distance = float('inf')\n",
    "        c_city = None\n",
    "\n",
    "        for city in range(n):\n",
    "            if not visited[city] and matrix[curr_city][city] < min_distance:\n",
    "                min_distance = matrix[curr_city][city]\n",
    "                c_city = city\n",
    "\n",
    "        if c_city is None:\n",
    "            break\n",
    "\n",
    "        visited[c_city] = True\n",
    "        tour.append(c_city)\n",
    "        curr_city = c_city\n",
    "\n",
    "    return tour"
   ]
  },
  {
   "cell_type": "code",
   "execution_count": 217,
   "id": "b205f7a0",
   "metadata": {
    "deletable": false,
    "editable": false
   },
   "outputs": [
    {
     "name": "stdout",
     "output_type": "stream",
     "text": [
      "Testing on 5 cities...\n",
      "Testing on 10 cities...\n",
      "Testing on 20 cities...\n",
      "Testing on 40 cities...\n",
      "Testing on 100 cities...\n",
      "All test cases passed!\n"
     ]
    },
    {
     "data": {
      "text/html": [
       "<p><strong><pre style='display: inline;'>q1a</pre></strong> passed! 💯</p>"
      ],
      "text/plain": [
       "q1a results: All test cases passed!"
      ]
     },
     "execution_count": 217,
     "metadata": {},
     "output_type": "execute_result"
    }
   ],
   "source": [
    "grader.check(\"q1a\")"
   ]
  },
  {
   "cell_type": "markdown",
   "id": "b6dd138b",
   "metadata": {},
   "source": [
    "### Q1b) Greedy Solution \n",
    "An easy way to improve over the original greedy solution is to try your greedy solution on all of the possible starting locations and choose the best one. Implement a general greedy solution, which runs the Q1a implementation on all possible home locations, and returns the best overall path.\n",
    "\n",
    "_Your solution should take around 8 lines of code.__"
   ]
  },
  {
   "cell_type": "code",
   "execution_count": 218,
   "id": "79b97339",
   "metadata": {
    "tags": []
   },
   "outputs": [],
   "source": [
    "def tsp_greedy_general(matrix):\n",
    "    \"\"\"\n",
    "    A generalized greedy implementation of TSP.\n",
    "    \n",
    "    Args:\n",
    "        matrix: List[List[float]]\n",
    "            An n x n matrix of distances, where M[i, j] corresponds to the distance from city i to city j.\n",
    "    \n",
    "    Returns:\n",
    "        path: List[int] \n",
    "            A list corresponding to the order in which to visit cities, starting from path[0] and ending \n",
    "            at path[-1] before returning to path[0].  \n",
    "    \"\"\"\n",
    "    n = len(matrix)\n",
    "    best_path = None\n",
    "    best_cost = float('inf')\n",
    "    \n",
    "    for home in range(n):\n",
    "        tour = tsp_greedy(matrix, home)\n",
    "        cost = validate_tour(tour, matrix)\n",
    "        if cost != -1 and cost < best_cost:\n",
    "            best_cost = cost\n",
    "            best_path = tour\n",
    "    \n",
    "    return best_path"
   ]
  },
  {
   "cell_type": "code",
   "execution_count": 219,
   "id": "b7cfa3b9",
   "metadata": {
    "deletable": false,
    "editable": false
   },
   "outputs": [
    {
     "name": "stdout",
     "output_type": "stream",
     "text": [
      "Testing on 5 cities...\n",
      "Testing on 10 cities...\n",
      "Testing on 20 cities...\n",
      "Testing on 40 cities...\n",
      "Testing on 100 cities...\n",
      "All test cases passed!\n"
     ]
    },
    {
     "data": {
      "text/html": [
       "<p><strong><pre style='display: inline;'>q1b</pre></strong> passed! 🌈</p>"
      ],
      "text/plain": [
       "q1b results: All test cases passed!"
      ]
     },
     "execution_count": 219,
     "metadata": {},
     "output_type": "execute_result"
    }
   ],
   "source": [
    "grader.check(\"q1b\")"
   ]
  },
  {
   "cell_type": "markdown",
   "id": "f6ff578b",
   "metadata": {},
   "source": [
    "### Q2) Approximation Algorithm for Metric TSP\n",
    "\n",
    "When NP-complete problems are given specific constraints, they are sometimes easier to approximate. For this question, we will focus on a special variant of TSP called the **metric TSP**, where distances satisfy the following three properties:\n",
    "1. Distances are non-negative: $d(i, j) \\geq 0$\n",
    "2. Distances are symmetric: $d(i, j) = d(j, i)$\n",
    "3. Distances satisfy the following inequality:\n",
    "\n",
    "$$ \\forall i, j, k \\in V,\\; d(i, k) \\leq d(i, j) + d(j, k)$$\n",
    "\n",
    "_(This is called the triangle inequality, and all mathematical distance metrics obey it, which is why this is called the metric TSP!)_\n",
    "\n",
    "In other words, the graph is complete and the shortest path from one city to another city is always the direct path.\n",
    "\n",
    "The Metric TSP problem is still NP-complete, but the following approximation returns a path that is guaranteed to be **at most twice the length of the optimal path**:\n",
    "\n",
    "* Generate a minimum spanning tree of the graph.\n",
    "* Run depth-first search on the minimum spanning tree.\n",
    "* Return the nodes in the order that you found them with depth first search (i.e. by preorder number).\n",
    "\n",
    "See DPV Section 9.2 for more details: https://people.eecs.berkeley.edu/~vazirani/algorithms/chap9.pdf#page=12\n",
    "\n",
    "Implement this approximation algorithm below.\n",
    "\n",
    "**For this problem, run depth-first search starting at node 0, and explore neighbors in numerical order.** \n",
    "\n",
    "_Feel free to reuse code from previous coding homework assignments, but please don't use any external library imports for this part. If you want to reuse your Kruskal's code to generate an MST, you should reconfigure it to take in an adjacency matrix instead of an adjacency list._"
   ]
  },
  {
   "cell_type": "code",
   "execution_count": 220,
   "id": "a0688f73",
   "metadata": {},
   "outputs": [],
   "source": [
    "class UnionFind:\n",
    "    def __init__(self, n):\n",
    "        self.n = n\n",
    "        self.parents = [i for i in range(n)]\n",
    "        self.rank = [1]*n\n",
    "    \n",
    "    def find(self, i):\n",
    "        assert i >= 0 and i <= self.n-1, f\"Node {i} is not in the data structure. Only nodes {0} through {self.n-1} exist.\"\n",
    "        if i != self.parents[i]:\n",
    "            i = self.find(self.parents[i])\n",
    "        return i\n",
    "    \n",
    "    def union(self, pi, pj):\n",
    "        assert pi >= 0 and pi <= self.n-1, f\"Node {pi} is not in the data structure. Only nodes {0} through {self.n-1} exist.\"\n",
    "        assert pj >= 0 and pj <= self.n-1, f\"Node {pj} is not in the data structure. Only nodes {0} through {self.n-1} exist.\"\n",
    "        x = self.find(pi)\n",
    "        y = self.find(pj)\n",
    "        if x == y: return\n",
    "        if self.rank[x] > self.rank[y]:\n",
    "            self.parents[y] = x\n",
    "        else:\n",
    "            self.parents[x] = y\n",
    "            if self.rank[x] == self.rank[y]: \n",
    "                self.rank[y] += 1"
   ]
  },
  {
   "cell_type": "code",
   "execution_count": 221,
   "id": "cf58da0f",
   "metadata": {},
   "outputs": [],
   "source": [
    "def kruskal(G):\n",
    "    T = []\n",
    "    edges = []\n",
    "    \n",
    "    for u in range(len(G)):\n",
    "        for v, w in G[u]:\n",
    "            edges.append((w, u, v))\n",
    "    edges.sort()\n",
    "    \n",
    "    UF = UnionFind(len(G))\n",
    "                         \n",
    "    for e in edges:\n",
    "        u,v = e[1],e[2]\n",
    "        if UF.find(u) != UF.find(v):\n",
    "            UF.union(u,v)\n",
    "            T.append((u,v))\n",
    "\n",
    "    if len(T) != len(G) - 1:\n",
    "        return []\n",
    "\n",
    "    return T"
   ]
  },
  {
   "cell_type": "code",
   "execution_count": 222,
   "id": "7e0b176b",
   "metadata": {},
   "outputs": [],
   "source": [
    "def matrix_to_adj_list(matrix):\n",
    "    adj_list = []\n",
    "    n = len(matrix)\n",
    "\n",
    "    for i in range(n):\n",
    "        neighbors = []\n",
    "        for j in range(n):\n",
    "            if matrix[i][j] != -1:\n",
    "                neighbors.append((j, matrix[i][j]))\n",
    "        adj_list.append(neighbors)\n",
    "\n",
    "    return adj_list\n",
    "\n",
    "def construct_adj_list(edges):\n",
    "    adj_list = [[] for _ in range(len(edges) + 1)]\n",
    "    for u, v in edges:\n",
    "        adj_list[u].append(v)\n",
    "        adj_list[v].append(u) \n",
    "    return adj_list\n",
    "\n",
    "def dfs(adj_list, u, visited, path):\n",
    "    visited[u] = True\n",
    "    path.append(u)\n",
    "    for v in adj_list[u]:\n",
    "        if not visited[v]:\n",
    "            dfs(adj_list, v, visited, path)\n",
    "\n",
    "def dfs_on_mst(adj_list):\n",
    "    n = len(adj_list)\n",
    "    visited = [False] * n\n",
    "    path = []\n",
    "    dfs(adj_list, 0, visited, path)\n",
    "    return path"
   ]
  },
  {
   "cell_type": "code",
   "execution_count": 223,
   "id": "a69dc865",
   "metadata": {
    "tags": []
   },
   "outputs": [],
   "source": [
    "def metric_tsp_approximation(matrix):\n",
    "    \"\"\"\n",
    "    An algorithm for solving the Metric TSP using minimum spanning trees and depth first search.\n",
    "    \n",
    "    Args:\n",
    "        matrix: List[List[float]]\n",
    "            An n x n matrix of distances, where M[i, j] corresponds to the distance from city i to city j.\n",
    "    \n",
    "    Returns:\n",
    "        path: List[int] \n",
    "            A list corresponding to the order in which to visit cities, starting from path[0] and ending \n",
    "            at path[-1] before returning to path[0].  \n",
    "    \"\"\"\n",
    "    G = matrix_to_adj_list(matrix)\n",
    "    mst = kruskal(G)\n",
    "    adj_list = construct_adj_list(mst)\n",
    "    for l in adj_list:\n",
    "        l.sort()\n",
    "    path = dfs_on_mst(adj_list)\n",
    "    return path"
   ]
  },
  {
   "cell_type": "code",
   "execution_count": 224,
   "id": "9714c484",
   "metadata": {
    "deletable": false,
    "editable": false
   },
   "outputs": [
    {
     "name": "stdout",
     "output_type": "stream",
     "text": [
      "All test cases passed!\n",
      "All test cases passed!\n"
     ]
    },
    {
     "data": {
      "text/html": [
       "<p><strong><pre style='display: inline;'>q2</pre></strong> passed! 🍀</p>"
      ],
      "text/plain": [
       "q2 results: All test cases passed!"
      ]
     },
     "execution_count": 224,
     "metadata": {},
     "output_type": "execute_result"
    }
   ],
   "source": [
    "grader.check(\"q2\")"
   ]
  },
  {
   "cell_type": "markdown",
   "id": "adc7bf56",
   "metadata": {
    "deletable": false,
    "editable": false
   },
   "source": [
    "## Submission\n",
    "\n",
    "Make sure you have run all cells in your notebook in order before running the cell below, so that all images/graphs appear in the output. The cell below will generate a zip file for you to submit."
   ]
  },
  {
   "cell_type": "code",
   "execution_count": 225,
   "id": "c100f8ca",
   "metadata": {
    "deletable": false,
    "editable": false
   },
   "outputs": [
    {
     "data": {
      "application/javascript": "\n            if (typeof Jupyter !== 'undefined') {\n                Jupyter.notebook.save_checkpoint();\n            }\n        ",
      "text/plain": [
       "<IPython.core.display.Javascript object>"
      ]
     },
     "metadata": {},
     "output_type": "display_data"
    },
    {
     "name": "stderr",
     "output_type": "stream",
     "text": [
      "/Users/jehuzepeda-silva/anaconda3/lib/python3.11/site-packages/otter/check/notebook.py:434: UserWarning: Couldn't automatically save the notebook; we recommend using File > Save & Checkpoint and then re-running this cell. The zip file returned by this call will use the last saved version of this notebook.\n",
      "  warnings.warn(\n"
     ]
    },
    {
     "data": {
      "text/html": [
       "\n",
       "                    <p>\n",
       "                        Your submission has been exported. Click\n",
       "                        <a href=\"hw12-coding_2024_04_22T17_41_23_786363.zip\" download=\"hw12-coding_2024_04_22T17_41_23_786363.zip\" target=\"_blank\">here</a> to download\n",
       "                        the zip file.\n",
       "                    </p>\n",
       "                "
      ],
      "text/plain": [
       "<IPython.core.display.HTML object>"
      ]
     },
     "metadata": {},
     "output_type": "display_data"
    }
   ],
   "source": [
    "grader.export(pdf=False, force_save=True)"
   ]
  },
  {
   "cell_type": "markdown",
   "id": "de28ee00",
   "metadata": {},
   "source": [
    " "
   ]
  }
 ],
 "metadata": {
  "kernelspec": {
   "display_name": "Python 3",
   "language": "python",
   "name": "python3"
  },
  "language_info": {
   "codemirror_mode": {
    "name": "ipython",
    "version": 3
   },
   "file_extension": ".py",
   "mimetype": "text/x-python",
   "name": "python",
   "nbconvert_exporter": "python",
   "pygments_lexer": "ipython3",
   "version": "3.11.4"
  },
  "otter": {
   "OK_FORMAT": false,
   "assignment_name": "hw12-coding",
   "tests": {
    "q1a": "from otter.test_files import test_case\n\nOK_FORMAT = False\n\nname = \"q1a\"\npoints = 2.0\n\n@test_case(points=None, hidden=False)\ndef test_q1a(tsp_greedy):\n    import random\n    \n    def matrix_to_string(matrix):\n        return \"\".join([f\"{row}\\n\" for row in matrix])\n                   \n    def verify_basic(matrix, path):\n        \"\"\"Verify that the proposed solution is valid.\"\"\"\n        assert len(path) == len(matrix), f\"There are {len(matrix)} cities but your path only has {len(path)} cities!\"\n        assert sorted(path) == list(range(len(path))), f\"Your path is not a permutation of cities (ints from 0 to {len(path)-1})\"\n\n    def verify_greedy(matrix, path):\n        \"\"\"Verify that the proposed solution is a valid greedy solution at each step (except the last one).\"\"\"\n        weights = [matrix[path[i]][path[i+1]] for i in range(len(path) - 1)]\n        for i in range(len(weights)):\n            available_options = [matrix[path[i]][path[j]] for j in range(i+1, (len(path)))]\n            assert weights[i] == min(available_options), (\n                f\"At time {i}, you could've chosen an edge of weight {min(available_options)}, \"\n                f\"but instead you chose an edge of weight {weights[i]}!\\n\\n\"\n\n                f\"The matrix: \\n{matrix_to_string(matrix)}\\n\"\n                f\"The path you returned: \\n{path}\")\n    \n    matrix_sizes = [5, 10, 20, 40, 100]\n    for size in matrix_sizes:\n        print(f\"Testing on {size} cities...\")\n        for it in range(20):\n            matrix = [[random.randint(0, size * 2) for _ in range(size)] for _ in range(size)]\n            home = random.randint(0, size-1)\n            path = tsp_greedy(matrix, home)\n            assert path[0] == home, f\"Your path should start at {home} but it starts at {path[0]}\"\n            verify_basic(matrix, path)\n            verify_greedy(matrix, path)\n    print(f\"All test cases passed!\")\n\n",
    "q1b": "from otter.test_files import test_case\n\nOK_FORMAT = False\n\nname = \"q1b\"\npoints = 1.0\n\n@test_case(points=None, hidden=False)\ndef test_q1b(tsp_greedy_general, tsp_greedy, validate_tour):\n    import random\n    \n    def matrix_to_string(matrix):\n        return \"\".join([f\"{row}\\n\" for row in matrix])\n                   \n    def verify_basic(matrix, path):\n        \"\"\"Verify that the proposed solution is valid.\"\"\"\n        assert len(path) == len(matrix), f\"There are {len(matrix)} cities but your path only has {len(path)} cities!\"\n        assert sorted(path) == list(range(len(path))), f\"Your path is not a permutation of cities (ints from 0 to {len(path)-1})\"\n\n    def verify_greedy(matrix, path):\n        \"\"\"Verify that the proposed solution is a valid greedy solution at each step (except the last one).\"\"\"\n        weights = [matrix[path[i]][path[i+1]] for i in range(len(path) - 1)]\n        for i in range(len(weights)):\n            available_options = [matrix[path[i]][path[j]] for j in range(i+1, (len(path)))]\n            assert weights[i] == min(available_options), (\n                f\"At time {i}, you could've chosen an edge of weight {min(available_options)}, \"\n                f\"but instead you chose an edge of weight {weights[i]}!\\n\\n\"\n\n                f\"The matrix: \\n{matrix_to_string(matrix)}\\n\"\n                f\"The path you returned: \\n{path}\")\n    \n    matrix_sizes = [5, 10, 20, 40, 100]\n    for size in matrix_sizes:\n        print(f\"Testing on {size} cities...\")\n        for it in range(20):\n            matrix = [[random.randint(0, size * 2) for _ in range(size)] for _ in range(size)]\n            home = random.randint(0, size-1)\n            path = tsp_greedy_general(matrix)\n            verify_basic(matrix, path)\n            verify_greedy(matrix, path)\n            \n            path_length = validate_tour(path, matrix)\n            for home in range(size):\n                assert path_length <= validate_tour(tsp_greedy(matrix, home), matrix)\n    print(f\"All test cases passed!\")\n\n",
    "q2": "from otter.test_files import test_case\n\nOK_FORMAT = False\n\nname = \"q2\"\npoints = 3.0\n\n@test_case(points=1.0, hidden=False)\n\ndef test_q2a(metric_tsp_approximation):\n    import pickle as pkl\n    import os\n    \n    def matrix_to_string(matrix):\n        return \"\".join([f\"{row}\\n\" for row in matrix])\n                   \n    def verify_basic(matrix, path):\n        \"\"\"Verify that the proposed solution is valid.\"\"\"\n        assert len(path) == len(matrix), f\"There are {len(matrix)} cities but your path only has {len(path)} cities!\"\n        assert sorted(path) == list(range(len(path))), f\"Your path is not a permutation of cities (ints from 0 to {len(path)-1})\"\n\n    \n    with open('tests_1.pkl', 'rb') as f:\n        cases = pkl.load(f)\n\n    for m, s in cases:\n        student_sol = metric_tsp_approximation(m)\n        verify_basic(m, student_sol)\n        assert student_sol == s, (\n            f\"Your solution returned the incorrect path!\"\n            \n            f\"The matrix: \\n{matrix_to_string(m)}\\n\"\n            f\"The path you returned: \\n{student_sol}\"\n            f\"The correct path: \\n{s}\")\n    print(\"All test cases passed!\")\n\n@test_case(points=2.0, hidden=False)\n\ndef test_q2b(metric_tsp_approximation):\n    import pickle as pkl\n    import os\n    \n    def matrix_to_string(matrix):\n        return \"\".join([f\"{row}\\n\" for row in matrix])\n                   \n    def verify_basic(matrix, path):\n        \"\"\"Verify that the proposed solution is valid.\"\"\"\n        assert len(path) == len(matrix), f\"There are {len(matrix)} cities but your path only has {len(path)} cities!\"\n        assert sorted(path) == list(range(len(path))), f\"Your path is not a permutation of cities (ints from 0 to {len(path)-1})\"\n    \n    with open('tests_2.pkl', 'rb') as f:\n        cases = pkl.load(f)\n    \n    for m, s in cases:\n        student_sol = metric_tsp_approximation(m)\n        verify_basic(m, student_sol)\n        assert student_sol == s, (\n            f\"Your solution returned the incorrect path!\"\n            \n            f\"The matrix: \\n{matrix_to_string(m)}\\n\"\n            f\"The path you returned: \\n{student_sol}\"\n            f\"The correct path: \\n{s}\")\n    print(\"All test cases passed!\")\n\n"
   }
  }
 },
 "nbformat": 4,
 "nbformat_minor": 5
}
