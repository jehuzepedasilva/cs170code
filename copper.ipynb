{
 "cells": [
  {
   "cell_type": "code",
   "execution_count": 2,
   "metadata": {},
   "outputs": [],
   "source": [
    "def copper_pipes(n, prices):\n",
    "    dp = [0] * (n+1)\n",
    "    for i in range(1, n+1):\n",
    "        for j in range(1, i+1):\n",
    "            dp[i] = max(dp[i], prices[j] + dp[i-j])\n",
    "    return dp[n]\n",
    "\n",
    "# prices = [1, 5, 8, 9, 10, 17, 17, 20]\n",
    "# print(copper_pipes(len(prices), prices))"
   ]
  },
  {
   "cell_type": "code",
   "execution_count": 6,
   "metadata": {},
   "outputs": [],
   "source": [
    "def count_partitions(n, m):\n",
    "    if n == 0:\n",
    "        return 1\n",
    "    if n < 0 or m == 0:\n",
    "        return 0\n",
    "    with_m = count_partitions(n-m, m)\n",
    "    without_m = count_partitions(n, m-1)\n",
    "    return with_m + without_m"
   ]
  },
  {
   "cell_type": "markdown",
   "metadata": {},
   "source": [
    "What is happening here is that if we want to count partitions of n using parts up to size m, then we have to choices: we can choose to use m as one of the numbers and or not. If we choose to use m, then we have n-m left over and again we have same two choices to partition that (can choose m or not not m). If we choose not use m, than we have m-1 values to choose from, and similarly to above we have the same options (choose m-1 or not). We recursively keep doing this until we hit are base cases. "
   ]
  },
  {
   "cell_type": "code",
   "execution_count": 7,
   "metadata": {},
   "outputs": [
    {
     "data": {
      "text/plain": [
       "9"
      ]
     },
     "execution_count": 7,
     "metadata": {},
     "output_type": "execute_result"
    }
   ],
   "source": [
    "count_partitions(6, 4)"
   ]
  },
  {
   "cell_type": "code",
   "execution_count": 18,
   "metadata": {},
   "outputs": [],
   "source": [
    "def make_change(currency, to_make):\n",
    "    if to_make == 0:\n",
    "        return 1\n",
    "    if to_make < 0 or not currency:\n",
    "        return 0\n",
    "    choose_first = make_change(currency, to_make - currency[0])\n",
    "    dont_choose_first = make_change(currency[1:], to_make)\n",
    "    return choose_first + dont_choose_first\n",
    "\n",
    "make_change([1, 2, 3], 4)"
   ]
  },
  {
   "cell_type": "markdown",
   "metadata": {},
   "source": [
    "Similar to count_partitions, make_change uses the same approach. We either choose the first coin or we don't. Both of these options lead to the same choices and so on. "
   ]
  },
  {
   "cell_type": "markdown",
   "metadata": {},
   "source": [
    "**Dynamic Programing**: Think similar to the problems above to solve, but find ways to store information that may be used down the road. Lets try to implement make_change dynamically now."
   ]
  },
  {
   "cell_type": "code",
   "execution_count": 26,
   "metadata": {},
   "outputs": [
    {
     "data": {
      "text/plain": [
       "4"
      ]
     },
     "execution_count": 26,
     "metadata": {},
     "output_type": "execute_result"
    }
   ],
   "source": [
    "def make_change_dp(currency, to_make):\n",
    "    table = [0] * (to_make + 1)\n",
    "    table[0] = 1\n",
    "    \n",
    "    for coin in currency:\n",
    "        for i in range(coin, to_make+1):\n",
    "            table[i] += table[i-coin]\n",
    "    return table[to_make]\n",
    "\n",
    "make_change_dp([1, 2, 3], 4)"
   ]
  },
  {
   "cell_type": "markdown",
   "metadata": {},
   "source": [
    "**Recursion Practice:**"
   ]
  },
  {
   "cell_type": "code",
   "execution_count": 68,
   "metadata": {},
   "outputs": [
    {
     "name": "stdout",
     "output_type": "stream",
     "text": [
      "0 is correct: True\n",
      "1 is correct: True\n",
      "8 is correct: True\n",
      "1 is correct: True\n",
      "2 is correct: True\n",
      "0 is correct: True\n",
      "3 is correct: True\n"
     ]
    }
   ],
   "source": [
    "def num_eights(n):\n",
    "    \"\"\"Returns the number of times 8 appears as a digit of n.\n",
    "\n",
    "    >>> num_eights(3)\n",
    "    0\n",
    "    >>> num_eights(8)\n",
    "    1\n",
    "    >>> num_eights(88888888)\n",
    "    8\n",
    "    >>> num_eights(2638)\n",
    "    1\n",
    "    >>> num_eights(86380)\n",
    "    2\n",
    "    >>> num_eights(12345)\n",
    "    0\n",
    "    >>> num_eights(8782089)\n",
    "    3\n",
    "    \"\"\"\n",
    "    \"*** YOUR CODE HERE ***\"\n",
    "    if not n:\n",
    "        return 0\n",
    "    return int(n % 10 == 8) + num_eights(n//10)\n",
    "\n",
    "queries = [3, 8, 88888888, 2638, 86380, 12345, 8782089]\n",
    "answers = [0, 1, 8, 1, 2, 0, 3]\n",
    "for i, query in enumerate(queries):\n",
    "    my_func = num_eights(query)\n",
    "    print(my_func, 'is correct:', my_func == answers[i])\n"
   ]
  },
  {
   "cell_type": "code",
   "execution_count": 69,
   "metadata": {},
   "outputs": [
    {
     "name": "stdout",
     "output_type": "stream",
     "text": [
      "0 is correct: True\n",
      "0 is correct: True\n",
      "5 is correct: True\n",
      "32 is correct: True\n",
      "16 is correct: True\n"
     ]
    }
   ],
   "source": [
    "def digit_distance(n):\n",
    "    \"\"\"Determines the digit distance of n.\n",
    "\n",
    "    >>> digit_distance(3)\n",
    "    0\n",
    "    >>> digit_distance(777)\n",
    "    0\n",
    "    >>> digit_distance(314)\n",
    "    5\n",
    "    >>> digit_distance(31415926535)\n",
    "    32\n",
    "    >>> digit_distance(3464660003)\n",
    "    16\n",
    "    \"\"\"\n",
    "    \"*** YOUR CODE HERE ***\"\n",
    "    if n < 10:\n",
    "        return 0\n",
    "    if n < 100:\n",
    "        return abs((n % 10) - (n//10 % 10))\n",
    "    return abs((n % 10) - (n//10 % 10)) + digit_distance(n//10)\n",
    "\n",
    "queries = [3, 777, 314, 31415926535, 3464660003]\n",
    "answers = [0, 0, 5, 32, 16]\n",
    "for i, query in enumerate(queries):\n",
    "    my_func = digit_distance(query)\n",
    "    print(my_func, 'is correct:', my_func == answers[i])"
   ]
  },
  {
   "cell_type": "code",
   "execution_count": 73,
   "metadata": {},
   "outputs": [
    {
     "name": "stdout",
     "output_type": "stream",
     "text": [
      "29 is correct: True\n",
      "41 is correct: True\n",
      "32 is correct: True\n",
      "28 is correct: True\n"
     ]
    }
   ],
   "source": [
    "def interleaved_sum(n, odd_func, even_func):\n",
    "    \"\"\"Compute the sum odd_func(1) + even_func(2) + odd_func(3) + ..., up\n",
    "    to n.\n",
    "\n",
    "    >>> identity = lambda x: x\n",
    "    >>> square = lambda x: x * x\n",
    "    >>> triple = lambda x: x * 3\n",
    "    >>> interleaved_sum(5, identity, square) # 1   + 2*2 + 3   + 4*4 + 5\n",
    "    29\n",
    "    >>> interleaved_sum(5, square, identity) # 1*1 + 2   + 3*3 + 4   + 5*5\n",
    "    41\n",
    "    >>> interleaved_sum(4, triple, square)   # 1*3 + 2*2 + 3*3 + 4*4\n",
    "    32\n",
    "    >>> interleaved_sum(4, square, triple)   # 1*1 + 2*3 + 3*3 + 4*3\n",
    "    28\n",
    "    \"\"\"\n",
    "    \"*** YOUR CODE HERE ***\"\n",
    "    def helper(n, is_odd):\n",
    "        if n <= 0:\n",
    "            return 0\n",
    "        if is_odd:\n",
    "            return odd_func(n) + even_func(n-1) + helper(n-2, is_odd)\n",
    "        return even_func(n) + odd_func(n-1) + helper(n-2, is_odd)\n",
    "    return helper(n, n % 2 != 0)\n",
    "\n",
    "identity = lambda x: x\n",
    "square = lambda x: x * x\n",
    "triple = lambda x: x * 3\n",
    "queries = [interleaved_sum(5, identity, square),\n",
    "          interleaved_sum(5, square, identity), \n",
    "          interleaved_sum(4, triple, square),\n",
    "          interleaved_sum(4, square, triple),\n",
    "          ]\n",
    "answers = [29, 41, 32, 28]\n",
    "for i, query in enumerate(queries):\n",
    "    print(query, 'is correct:', query == answers[i])"
   ]
  },
  {
   "cell_type": "code",
   "execution_count": 71,
   "metadata": {},
   "outputs": [
    {
     "name": "stdout",
     "output_type": "stream",
     "text": [
      "6 is correct: True\n",
      "4 is correct: True\n",
      "9 is correct: True\n",
      "242 is correct: True\n",
      "1463 is correct: True\n"
     ]
    }
   ],
   "source": [
    "def next_larger_coin(coin):\n",
    "    \"\"\"Returns the next larger coin in order.\n",
    "    >>> next_larger_coin(1)\n",
    "    5\n",
    "    >>> next_larger_coin(5)\n",
    "    10\n",
    "    >>> next_larger_coin(10)\n",
    "    25\n",
    "    >>> next_larger_coin(2) # Other values return None\n",
    "    \"\"\"\n",
    "    if coin == 1:\n",
    "        return 5\n",
    "    elif coin == 5:\n",
    "        return 10\n",
    "    elif coin == 10:\n",
    "        return 25\n",
    "\n",
    "def next_smaller_coin(coin):\n",
    "    \"\"\"Returns the next smaller coin in order.\n",
    "    >>> next_smaller_coin(25)\n",
    "    10\n",
    "    >>> next_smaller_coin(10)\n",
    "    5\n",
    "    >>> next_smaller_coin(5)\n",
    "    1\n",
    "    >>> next_smaller_coin(2) # Other values return None\n",
    "    \"\"\"\n",
    "    if coin == 25:\n",
    "        return 10\n",
    "    elif coin == 10:\n",
    "        return 5\n",
    "    elif coin == 5:\n",
    "        return 1\n",
    "\n",
    "def count_coins(total):\n",
    "    \"\"\"Return the number of ways to make change using coins of value of 1, 5, 10, 25.\n",
    "    >>> count_coins(15)\n",
    "    6\n",
    "    >>> count_coins(10)\n",
    "    4\n",
    "    >>> count_coins(20)\n",
    "    9\n",
    "    >>> count_coins(100) # How many ways to make change for a dollar?\n",
    "    242\n",
    "    >>> count_coins(200)\n",
    "    1463\n",
    "    >>> from construct_check import check\n",
    "    >>> # ban iteration\n",
    "    >>> check(HW_SOURCE_FILE, 'count_coins', ['While', 'For'])\n",
    "    True\n",
    "    \"\"\"\n",
    "    \"*** YOUR CODE HERE ***\"\n",
    "    def helper(total, coin):\n",
    "        if total == 0:\n",
    "            return 1\n",
    "        if total <= 0 or coin == None:\n",
    "            return 0\n",
    "        return helper(total-coin, coin) + helper(total, next_larger_coin(coin))\n",
    "    return helper(total, 1)\n",
    "\n",
    "queries = [15, 10, 20, 100, 200]\n",
    "answers = [6, 4, 9, 242, 1463]\n",
    "for i, a in enumerate(queries):\n",
    "    my_func = count_coins(a)\n",
    "    print(my_func, 'is correct:', my_func == answers[i])"
   ]
  },
  {
   "cell_type": "code",
   "execution_count": 92,
   "metadata": {},
   "outputs": [
    {
     "data": {
      "text/plain": [
       "[1, 2, [9, [16], 5], 6]"
      ]
     },
     "execution_count": 92,
     "metadata": {},
     "output_type": "execute_result"
    }
   ],
   "source": [
    "def deep_map(f, s):\n",
    "    \"\"\"Replace all non-list elements x with f(x) in the nested list s.\n",
    "\n",
    "    >>> six = [1, 2, [3, [4], 5], 6]\n",
    "    >>> deep_map(lambda x: x * x, six)\n",
    "    >>> six\n",
    "    [1, 4, [9, [16], 25], 36]\n",
    "    >>> # Check that you're not making new lists\n",
    "    >>> s = [3, [1, [4, [1]]]]\n",
    "    >>> s1 = s[1]\n",
    "    >>> s2 = s1[1]\n",
    "    >>> s3 = s2[1]\n",
    "    >>> deep_map(lambda x: x + 1, s)\n",
    "    >>> s\n",
    "    [4, [2, [5, [2]]]]\n",
    "    >>> s1 is s[1]\n",
    "    True\n",
    "    >>> s2 is s1[1]\n",
    "    True\n",
    "    >>> s3 is s2[1]\n",
    "    True\n",
    "    \"\"\"\n",
    "    \"*** YOUR CODE HERE ***\"\n",
    "    if not s:\n",
    "        return\n",
    "    if type(s[0]) == list:\n",
    "        deep_map(f, s[0])\n",
    "    else:\n",
    "        s[0] = f(s[0])\n",
    "    if len(s) > 1:\n",
    "        deep_map(f, s[1:])\n",
    "\n",
    "six = [1, 2, [3, [4], 5], 6]\n",
    "deep_map(lambda x: x * x, six)\n",
    "six"
   ]
  }
 ],
 "metadata": {
  "kernelspec": {
   "display_name": "base",
   "language": "python",
   "name": "python3"
  },
  "language_info": {
   "codemirror_mode": {
    "name": "ipython",
    "version": 3
   },
   "file_extension": ".py",
   "mimetype": "text/x-python",
   "name": "python",
   "nbconvert_exporter": "python",
   "pygments_lexer": "ipython3",
   "version": "3.11.4"
  },
  "orig_nbformat": 4
 },
 "nbformat": 4,
 "nbformat_minor": 2
}
